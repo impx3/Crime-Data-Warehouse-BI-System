{
  "nbformat": 4,
  "nbformat_minor": 0,
  "metadata": {
    "colab": {
      "provenance": []
    },
    "kernelspec": {
      "name": "python3",
      "display_name": "Python 3"
    },
    "language_info": {
      "name": "python"
    }
  },
  "cells": [
    {
      "cell_type": "markdown",
      "source": [
        "This script generates rows with CrimeID and accm_txn_complete_time.\n",
        "\n",
        "Format: CrimeID, accm_txn_complete_time (e.g., 1,2025-04-30 10:00)\n",
        "\n",
        "Output file: crimefact_update.csv"
      ],
      "metadata": {
        "id": "kxZYAe3N82PJ"
      }
    },
    {
      "cell_type": "code",
      "execution_count": 1,
      "metadata": {
        "colab": {
          "base_uri": "https://localhost:8080/"
        },
        "id": "CiL_g9tw8wSu",
        "outputId": "c0209dd9-144d-4701-9e98-0a84e2613ecb"
      },
      "outputs": [
        {
          "output_type": "stream",
          "name": "stdout",
          "text": [
            "✔ File 'crimefact_update.csv' with 90,000 rows created successfully.\n"
          ]
        }
      ],
      "source": [
        "import pandas as pd\n",
        "from datetime import datetime, timedelta\n",
        "import random\n",
        "\n",
        "#Number of records to generate\n",
        "num_records = 99646\n",
        "\n",
        "#Starting base time for consistency\n",
        "base_time = datetime(2025, 4, 30, 8, 0)\n",
        "\n",
        "#Generate data\n",
        "data = []\n",
        "for i in range(1, num_records + 1):\n",
        "# Add a random number of minutes (0 to 720, up to 12 hours)\n",
        "  random_minutes = random.randint(0, 720)\n",
        "  txn_time = base_time + timedelta(minutes=random_minutes)\n",
        "  formatted_time = txn_time.strftime(\"%Y-%m-%d %H:%M\")\n",
        "  data.append([i, formatted_time])\n",
        "\n",
        "#Create DataFrame\n",
        "df = pd.DataFrame(data, columns=[\"CrimeID\", \"accm_txn_complete_time\"])\n",
        "\n",
        "#Write to CSV\n",
        "df.to_csv(\"crimefact_update.csv\", index=False)"
      ]
    }
  ]
}